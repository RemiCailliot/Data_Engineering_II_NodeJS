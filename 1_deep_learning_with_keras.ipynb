{
  "nbformat": 4,
  "nbformat_minor": 5,
  "metadata": {
    "kernelspec": {
      "display_name": "Python 3 (ipykernel)",
      "language": "python",
      "name": "python3"
    },
    "language_info": {
      "codemirror_mode": {
        "name": "ipython",
        "version": 3
      },
      "file_extension": ".py",
      "mimetype": "text/x-python",
      "name": "python",
      "nbconvert_exporter": "python",
      "pygments_lexer": "ipython3",
      "version": "3.9.8"
    },
    "deepnote_notebook_id": "20ff9064-148b-4092-a6ae-eaf605c9d773",
    "deepnote": {},
    "deepnote_execution_queue": [],
    "colab": {
      "name": "1. deep_learning_with_keras.ipynb",
      "provenance": [],
      "include_colab_link": true
    },
    "accelerator": "GPU"
  },
  "cells": [
    {
      "cell_type": "markdown",
      "metadata": {
        "id": "view-in-github",
        "colab_type": "text"
      },
      "source": [
        "<a href=\"https://colab.research.google.com/github/RemiCailliot/Data_Engineering_II_NodeJS/blob/main/1_deep_learning_with_keras.ipynb\" target=\"_parent\"><img src=\"https://colab.research.google.com/assets/colab-badge.svg\" alt=\"Open In Colab\"/></a>"
      ]
    },
    {
      "cell_type": "markdown",
      "metadata": {
        "cell_id": "00000-15ed92a6-7fc2-4aac-9637-796fc17a5a49",
        "deepnote_cell_type": "markdown",
        "id": "L-_XjDDPSt-i"
      },
      "source": [
        "## Neural network - basic behavior\n",
        "\n",
        "Laurent Cetinsoy - Datadidacte - personal use only\n",
        "\n",
        "In order to get a bit of understanding and practice with keras we are going to test a few different architectures"
      ],
      "id": "L-_XjDDPSt-i"
    },
    {
      "cell_type": "markdown",
      "metadata": {
        "cell_id": "00001-bd6a9120-68b2-4685-a8eb-584b617490f6",
        "deepnote_cell_type": "markdown",
        "id": "EdNvDp5tSt-2"
      },
      "source": [
        "## Effect of the activation function"
      ],
      "id": "EdNvDp5tSt-2"
    },
    {
      "cell_type": "markdown",
      "metadata": {
        "cell_id": "00002-7315f593-ca00-4c46-a78f-cfc850f4cb25",
        "deepnote_cell_type": "markdown",
        "id": "H1yxKCbNSt-3"
      },
      "source": [
        "Load the fashion mnist dataset from the tensorflow.keras.datasets module "
      ],
      "id": "H1yxKCbNSt-3"
    },
    {
      "cell_type": "code",
      "metadata": {
        "cell_id": "00003-c3f79815-0004-4614-9e4d-22ba854ab9e1",
        "deepnote_to_be_reexecuted": false,
        "source_hash": "51e19280",
        "execution_start": 1638348914362,
        "execution_millis": 4689,
        "deepnote_cell_type": "code",
        "id": "tgzA-HmmSt-4"
      },
      "source": [
        "import matplotlib.pyplot as plt\n",
        "import numpy as np\n",
        "from tensorflow.keras.datasets import fashion_mnist"
      ],
      "id": "tgzA-HmmSt-4",
      "execution_count": 1,
      "outputs": []
    },
    {
      "cell_type": "markdown",
      "metadata": {
        "cell_id": "00004-2fe5fd83-fb7e-4e39-bec6-f77c6ed7fecb",
        "deepnote_cell_type": "markdown",
        "id": "I-AdyZ4qSt-7"
      },
      "source": [
        "Display the first image of the train dataset with matplotlib"
      ],
      "id": "I-AdyZ4qSt-7"
    },
    {
      "cell_type": "code",
      "metadata": {
        "cell_id": "00005-00d46bf6-dbcd-42eb-9fda-d2a6ccbac7bd",
        "deepnote_to_be_reexecuted": false,
        "source_hash": "ff6f5759",
        "execution_start": 1638348919068,
        "execution_millis": 807,
        "deepnote_output_heights": [
          21.1875,
          250
        ],
        "deepnote_cell_type": "code",
        "colab": {
          "base_uri": "https://localhost:8080/",
          "height": 474
        },
        "id": "KT1-bJK8St-8",
        "outputId": "22bd677e-4a1f-44be-b489-b6aa4aa82b8b"
      },
      "source": [
        "(train_images, train_labels), (test_images, test_labels) = fashion_mnist.load_data()\n",
        "plt.imshow(train_images[0], \"gray\")"
      ],
      "id": "KT1-bJK8St-8",
      "execution_count": 2,
      "outputs": [
        {
          "output_type": "stream",
          "name": "stdout",
          "text": [
            "Downloading data from https://storage.googleapis.com/tensorflow/tf-keras-datasets/train-labels-idx1-ubyte.gz\n",
            "32768/29515 [=================================] - 0s 0us/step\n",
            "40960/29515 [=========================================] - 0s 0us/step\n",
            "Downloading data from https://storage.googleapis.com/tensorflow/tf-keras-datasets/train-images-idx3-ubyte.gz\n",
            "26427392/26421880 [==============================] - 0s 0us/step\n",
            "26435584/26421880 [==============================] - 0s 0us/step\n",
            "Downloading data from https://storage.googleapis.com/tensorflow/tf-keras-datasets/t10k-labels-idx1-ubyte.gz\n",
            "16384/5148 [===============================================================================================] - 0s 0us/step\n",
            "Downloading data from https://storage.googleapis.com/tensorflow/tf-keras-datasets/t10k-images-idx3-ubyte.gz\n",
            "4423680/4422102 [==============================] - 0s 0us/step\n",
            "4431872/4422102 [==============================] - 0s 0us/step\n"
          ]
        },
        {
          "output_type": "execute_result",
          "data": {
            "text/plain": [
              "<matplotlib.image.AxesImage at 0x7f2b80b87ed0>"
            ]
          },
          "metadata": {},
          "execution_count": 2
        },
        {
          "output_type": "display_data",
          "data": {
            "image/png": "[encoded data removed]",
            "text/plain": [
              "<Figure size 432x288 with 1 Axes>"
            ]
          },
          "metadata": {
            "needs_background": "light"
          }
        }
      ]
    },
    {
      "cell_type": "markdown",
      "metadata": {
        "cell_id": "00006-ad61d1e9-8086-425c-85d3-06929d214543",
        "deepnote_cell_type": "markdown",
        "id": "sQXgdrB1St-_"
      },
      "source": [
        "Display the number of classes in the dataset"
      ],
      "id": "sQXgdrB1St-_"
    },
    {
      "cell_type": "code",
      "metadata": {
        "cell_id": "00007-26b9c288-5953-44ef-a893-f9ca3952a886",
        "deepnote_to_be_reexecuted": false,
        "source_hash": "bf5ef98c",
        "execution_start": 1638348919883,
        "execution_millis": 1,
        "deepnote_output_heights": [
          21.1875
        ],
        "deepnote_cell_type": "code",
        "colab": {
          "base_uri": "https://localhost:8080/"
        },
        "id": "Hp45ilY-St_A",
        "outputId": "47ef2a32-39a2-4856-f22e-472bb87fc0ed"
      },
      "source": [
        "print(train_labels.shape)"
      ],
      "id": "Hp45ilY-St_A",
      "execution_count": 3,
      "outputs": [
        {
          "output_type": "stream",
          "name": "stdout",
          "text": [
            "(60000,)\n"
          ]
        }
      ]
    },
    {
      "cell_type": "markdown",
      "metadata": {
        "cell_id": "00008-ac80783e-1a56-423c-a5ff-891f8bb885c9",
        "deepnote_cell_type": "markdown",
        "id": "03tOUIvXSt_B"
      },
      "source": [
        "Create a simple neural network with the following structure : \n",
        "\n",
        "- One dense layer with **sigmoid** activation and 300 neurones\n",
        "- One dense layer with **sigmoid** activation and 100 neurones \n",
        "- One dense layer with softmax activation. How many neurones should there be ? "
      ],
      "id": "03tOUIvXSt_B"
    },
    {
      "cell_type": "code",
      "metadata": {
        "cell_id": "00009-eecff0be-0ddc-4490-91b8-14666bc65e45",
        "deepnote_to_be_reexecuted": false,
        "source_hash": "805f498c",
        "execution_start": 1638348919897,
        "execution_millis": 16,
        "deepnote_cell_type": "code",
        "id": "bsQwRejISt_D"
      },
      "source": [
        "from tensorflow.keras.layers import Dense\n",
        "from tensorflow.keras import Sequential\n",
        "model = Sequential()\n",
        "model.add(Dense(300,activation='sigmoid'))\n",
        "model.add(Dense(100, activation='sigmoid'))\n",
        "model.add(Dense(10,activation='softmax'))"
      ],
      "id": "bsQwRejISt_D",
      "execution_count": 4,
      "outputs": []
    },
    {
      "cell_type": "markdown",
      "metadata": {
        "cell_id": "00010-6b934b6e-9a5c-4c12-bcd8-b04de4f00778",
        "deepnote_cell_type": "markdown",
        "id": "eKIpe-xtSt_E"
      },
      "source": [
        "Compile the model with the sgd optimizer and the sparse_categorical_crossentropy_loss"
      ],
      "id": "eKIpe-xtSt_E"
    },
    {
      "cell_type": "code",
      "metadata": {
        "cell_id": "00011-03f6f549-28a9-43a1-b420-702792e3e475",
        "deepnote_to_be_reexecuted": false,
        "source_hash": "b91a4814",
        "execution_start": 1638348919927,
        "execution_millis": 7,
        "deepnote_cell_type": "code",
        "id": "VZzyvFH2St_E"
      },
      "source": [
        "model.compile(optimizer=\"sgd\", loss=\"sparse_categorical_crossentropy\")"
      ],
      "id": "VZzyvFH2St_E",
      "execution_count": 5,
      "outputs": []
    },
    {
      "cell_type": "markdown",
      "metadata": {
        "cell_id": "00012-2419ca82-7cfb-48b9-b839-5ce2708a36ec",
        "deepnote_cell_type": "markdown",
        "id": "az45opTLSt_F"
      },
      "source": [
        "Reshape the images so that each image is a vector. Remember to normalize the dataset by doing a min-max scaling\n"
      ],
      "id": "az45opTLSt_F"
    },
    {
      "cell_type": "code",
      "metadata": {
        "cell_id": "00013-b64a485b-4e70-42fb-b504-b10c73203f65",
        "deepnote_to_be_reexecuted": false,
        "source_hash": "69e30384",
        "execution_start": 1638348919985,
        "execution_millis": 1142,
        "deepnote_output_heights": [
          21.1875
        ],
        "deepnote_cell_type": "code",
        "id": "X39KPf0jSt_G"
      },
      "source": [
        "from sklearn.preprocessing import MinMaxScaler\n",
        "tri_shaped  =train_images.reshape(train_images.shape[0], train_images.shape[1]*train_images.shape[2])\n",
        "tei_shaped  =test_images.reshape(test_images.shape[0], test_images.shape[1]*test_images.shape[2])\n",
        "\n",
        "mms = MinMaxScaler()\n",
        "tri_scaled= mms.fit_transform(tri_shaped)\n",
        "tei_scaled= mms.fit_transform(tei_shaped)"
      ],
      "id": "X39KPf0jSt_G",
      "execution_count": 6,
      "outputs": []
    },
    {
      "cell_type": "markdown",
      "metadata": {
        "cell_id": "00014-1f21b517-3274-48d0-a9c6-dda5fd68fbe0",
        "deepnote_cell_type": "markdown",
        "id": "5dN2-vdcSt_H"
      },
      "source": [
        "Train the model for 10 epochs and display the loss versus the number of epochs. For that you can use Keras callbacks : https://keras.io/api/callbacks/\n",
        "\n",
        "Does it train well ? "
      ],
      "id": "5dN2-vdcSt_H"
    },
    {
      "cell_type": "code",
      "metadata": {
        "cell_id": "00015-a397deff-bf3f-4915-85bc-267a27baf71d",
        "deepnote_to_be_reexecuted": false,
        "source_hash": "5758acb",
        "execution_start": 1638348921136,
        "execution_millis": 76681,
        "deepnote_output_heights": [
          null,
          21.1875
        ],
        "deepnote_cell_type": "code",
        "colab": {
          "base_uri": "https://localhost:8080/"
        },
        "id": "EK27u1e0St_I",
        "outputId": "4065b9a2-5a02-48ec-fb11-3308fad6a700"
      },
      "source": [
        "model.fit(tri_scaled, train_labels, epochs=10,validation_data=(tei_scaled,test_labels))"
      ],
      "id": "EK27u1e0St_I",
      "execution_count": 7,
      "outputs": [
        {
          "output_type": "stream",
          "name": "stdout",
          "text": [
            "Epoch 1/10\n",
            "1875/1875 [==============================] - 7s 3ms/step - loss: 1.9268 - val_loss: 1.4540\n",
            "Epoch 2/10\n",
            "1875/1875 [==============================] - 5s 3ms/step - loss: 1.1995 - val_loss: 1.0291\n",
            "Epoch 3/10\n",
            "1875/1875 [==============================] - 6s 3ms/step - loss: 0.9154 - val_loss: 0.8399\n",
            "Epoch 4/10\n",
            "1875/1875 [==============================] - 5s 3ms/step - loss: 0.7766 - val_loss: 0.7444\n",
            "Epoch 5/10\n",
            "1875/1875 [==============================] - 6s 3ms/step - loss: 0.7026 - val_loss: 0.6895\n",
            "Epoch 6/10\n",
            "1875/1875 [==============================] - 5s 3ms/step - loss: 0.6584 - val_loss: 0.6575\n",
            "Epoch 7/10\n",
            "1875/1875 [==============================] - 5s 3ms/step - loss: 0.6264 - val_loss: 0.6286\n",
            "Epoch 8/10\n",
            "1875/1875 [==============================] - 6s 3ms/step - loss: 0.6005 - val_loss: 0.6064\n",
            "Epoch 9/10\n",
            "1875/1875 [==============================] - 6s 3ms/step - loss: 0.5793 - val_loss: 0.5874\n",
            "Epoch 10/10\n",
            "1875/1875 [==============================] - 5s 3ms/step - loss: 0.5608 - val_loss: 0.5715\n"
          ]
        },
        {
          "output_type": "execute_result",
          "data": {
            "text/plain": [
              "<keras.callbacks.History at 0x7f2b07487750>"
            ]
          },
          "metadata": {},
          "execution_count": 7
        }
      ]
    },
    {
      "cell_type": "markdown",
      "metadata": {
        "cell_id": "00016-aadb82e0-46f1-433e-b7c5-6cd5eacc9842",
        "deepnote_cell_type": "markdown",
        "id": "LMOX280YSt_J"
      },
      "source": [
        "Make another model by replacing this time the sigmoid activations by Relu. Train again the model and display the loss curve. Is it better ? "
      ],
      "id": "LMOX280YSt_J"
    },
    {
      "cell_type": "code",
      "metadata": {
        "cell_id": "00017-312c1551-b068-410c-b6a6-7231067453ec",
        "deepnote_to_be_reexecuted": false,
        "source_hash": "e0fcd11a",
        "execution_start": 1638349477745,
        "execution_millis": 75686,
        "deepnote_output_heights": [
          null,
          21.1875
        ],
        "deepnote_cell_type": "code",
        "colab": {
          "base_uri": "https://localhost:8080/"
        },
        "id": "1qLQPlBASt_J",
        "outputId": "49e578c5-5e18-4433-c719-181a52d1bb5b"
      },
      "source": [
        "model2 = Sequential()\n",
        "model2.add(Dense(300,activation='relu'))\n",
        "model2.add(Dense(100, activation='relu'))\n",
        "model2.add(Dense(10,activation='softmax'))\n",
        "model2.compile(optimizer=\"sgd\", loss=\"sparse_categorical_crossentropy\")\n",
        "model2.fit(tri_scaled, train_labels, epochs=10,validation_data=(tei_scaled,test_labels))"
      ],
      "id": "1qLQPlBASt_J",
      "execution_count": 8,
      "outputs": [
        {
          "output_type": "stream",
          "name": "stdout",
          "text": [
            "Epoch 1/10\n",
            "1875/1875 [==============================] - 6s 3ms/step - loss: 0.7039 - val_loss: 0.5550\n",
            "Epoch 2/10\n",
            "1875/1875 [==============================] - 5s 3ms/step - loss: 0.4808 - val_loss: 0.4749\n",
            "Epoch 3/10\n",
            "1875/1875 [==============================] - 6s 3ms/step - loss: 0.4371 - val_loss: 0.4643\n",
            "Epoch 4/10\n",
            "1875/1875 [==============================] - 6s 3ms/step - loss: 0.4105 - val_loss: 0.4407\n",
            "Epoch 5/10\n",
            "1875/1875 [==============================] - 6s 3ms/step - loss: 0.3912 - val_loss: 0.4395\n",
            "Epoch 6/10\n",
            "1875/1875 [==============================] - 6s 3ms/step - loss: 0.3743 - val_loss: 0.4032\n",
            "Epoch 7/10\n",
            "1875/1875 [==============================] - 5s 3ms/step - loss: 0.3608 - val_loss: 0.3881\n",
            "Epoch 8/10\n",
            "1875/1875 [==============================] - 5s 3ms/step - loss: 0.3489 - val_loss: 0.3989\n",
            "Epoch 9/10\n",
            "1875/1875 [==============================] - 5s 3ms/step - loss: 0.3382 - val_loss: 0.3815\n",
            "Epoch 10/10\n",
            "1875/1875 [==============================] - 6s 3ms/step - loss: 0.3291 - val_loss: 0.3756\n"
          ]
        },
        {
          "output_type": "execute_result",
          "data": {
            "text/plain": [
              "<keras.callbacks.History at 0x7f2b0321e8d0>"
            ]
          },
          "metadata": {},
          "execution_count": 8
        }
      ]
    },
    {
      "cell_type": "markdown",
      "metadata": {
        "cell_id": "00018-efee8423-918a-4b3c-9179-f77eda530f08",
        "deepnote_cell_type": "markdown",
        "id": "fI4hKGa8St_L"
      },
      "source": [
        "Do the same with the selu function "
      ],
      "id": "fI4hKGa8St_L"
    },
    {
      "cell_type": "code",
      "metadata": {
        "cell_id": "00019-8778acdc-5ad9-47b0-9237-a030e147caa8",
        "deepnote_to_be_reexecuted": false,
        "source_hash": "be7867c3",
        "execution_start": 1638350162016,
        "execution_millis": 107641,
        "deepnote_output_heights": [
          null,
          21.1875
        ],
        "deepnote_cell_type": "code",
        "colab": {
          "base_uri": "https://localhost:8080/"
        },
        "id": "0AIipIj9St_L",
        "outputId": "d923177c-70be-4c3f-d27c-0ca005b1a236"
      },
      "source": [
        "model3 = Sequential()\n",
        "model3.add(Dense(300,activation='selu'))\n",
        "model3.add(Dense(100, activation='selu'))\n",
        "model3.add(Dense(10,activation='softmax'))\n",
        "model3.compile(optimizer=\"sgd\", loss=\"sparse_categorical_crossentropy\")\n",
        "model3.fit(tri_scaled, train_labels, epochs=10,validation_data=(tei_scaled,test_labels))"
      ],
      "id": "0AIipIj9St_L",
      "execution_count": 9,
      "outputs": [
        {
          "output_type": "stream",
          "name": "stdout",
          "text": [
            "Epoch 1/10\n",
            "1875/1875 [==============================] - 6s 3ms/step - loss: 0.5703 - val_loss: 0.4917\n",
            "Epoch 2/10\n",
            "1875/1875 [==============================] - 6s 3ms/step - loss: 0.4419 - val_loss: 0.4536\n",
            "Epoch 3/10\n",
            "1875/1875 [==============================] - 6s 3ms/step - loss: 0.4094 - val_loss: 0.4341\n",
            "Epoch 4/10\n",
            "1875/1875 [==============================] - 5s 3ms/step - loss: 0.3896 - val_loss: 0.4475\n",
            "Epoch 5/10\n",
            "1875/1875 [==============================] - 6s 3ms/step - loss: 0.3742 - val_loss: 0.4145\n",
            "Epoch 6/10\n",
            "1875/1875 [==============================] - 5s 3ms/step - loss: 0.3606 - val_loss: 0.4001\n",
            "Epoch 7/10\n",
            "1875/1875 [==============================] - 5s 3ms/step - loss: 0.3503 - val_loss: 0.3984\n",
            "Epoch 8/10\n",
            "1875/1875 [==============================] - 5s 3ms/step - loss: 0.3414 - val_loss: 0.4167\n",
            "Epoch 9/10\n",
            "1875/1875 [==============================] - 6s 3ms/step - loss: 0.3334 - val_loss: 0.3835\n",
            "Epoch 10/10\n",
            "1875/1875 [==============================] - 5s 3ms/step - loss: 0.3254 - val_loss: 0.3709\n"
          ]
        },
        {
          "output_type": "execute_result",
          "data": {
            "text/plain": [
              "<keras.callbacks.History at 0x7f2b0732e910>"
            ]
          },
          "metadata": {},
          "execution_count": 9
        }
      ]
    },
    {
      "cell_type": "markdown",
      "metadata": {
        "cell_id": "00020-e148a223-f477-4b5b-8151-1e3ed6331868",
        "deepnote_cell_type": "markdown",
        "id": "IwexMJizSt_M"
      },
      "source": [
        "## Effect of the size \n",
        "\n",
        "In this section we want to study the effect of the size of the network on the learning\n",
        "\n",
        "Re-use the previous network and try to increase its size by using the following number of neurones : \n",
        "\n",
        "-  800 for first layer\n",
        "- 500 for second layer\n",
        "- same size\n",
        "\n",
        "\n",
        "You might need to train the network longer, but does it reach a better performance ? "
      ],
      "id": "IwexMJizSt_M"
    },
    {
      "cell_type": "code",
      "metadata": {
        "cell_id": "00021-932b3cc2-f6dd-45ab-9e3d-c2fb0b984b3e",
        "deepnote_to_be_reexecuted": false,
        "source_hash": "6aa21f40",
        "execution_start": 1638349926512,
        "execution_millis": 228279,
        "deepnote_cell_type": "code",
        "colab": {
          "base_uri": "https://localhost:8080/"
        },
        "id": "GfJl5LoRSt_N",
        "outputId": "232b6dd6-6250-462d-b80a-50d546ac6f04"
      },
      "source": [
        "model4 = Sequential()\n",
        "model4.add(Dense(800,activation='selu'))\n",
        "model4.add(Dense(500, activation='selu'))\n",
        "model4.add(Dense(10,activation='softmax'))\n",
        "model4.compile(optimizer=\"sgd\", loss=\"sparse_categorical_crossentropy\")\n",
        "model4.fit(tri_scaled, train_labels, epochs=10,validation_data=(tei_scaled,test_labels))"
      ],
      "id": "GfJl5LoRSt_N",
      "execution_count": 10,
      "outputs": [
        {
          "output_type": "stream",
          "name": "stdout",
          "text": [
            "Epoch 1/10\n",
            "1875/1875 [==============================] - 8s 4ms/step - loss: 0.5461 - val_loss: 0.4620\n",
            "Epoch 2/10\n",
            "1875/1875 [==============================] - 7s 4ms/step - loss: 0.4352 - val_loss: 0.4414\n",
            "Epoch 3/10\n",
            "1875/1875 [==============================] - 7s 3ms/step - loss: 0.4072 - val_loss: 0.4239\n",
            "Epoch 4/10\n",
            "1875/1875 [==============================] - 7s 4ms/step - loss: 0.3886 - val_loss: 0.4134\n",
            "Epoch 5/10\n",
            "1875/1875 [==============================] - 7s 4ms/step - loss: 0.3748 - val_loss: 0.4220\n",
            "Epoch 6/10\n",
            "1875/1875 [==============================] - 7s 4ms/step - loss: 0.3640 - val_loss: 0.4023\n",
            "Epoch 7/10\n",
            "1875/1875 [==============================] - 7s 4ms/step - loss: 0.3531 - val_loss: 0.3923\n",
            "Epoch 8/10\n",
            "1875/1875 [==============================] - 7s 4ms/step - loss: 0.3435 - val_loss: 0.3903\n",
            "Epoch 9/10\n",
            "1875/1875 [==============================] - 7s 4ms/step - loss: 0.3359 - val_loss: 0.3949\n",
            "Epoch 10/10\n",
            "1875/1875 [==============================] - 7s 4ms/step - loss: 0.3286 - val_loss: 0.3763\n"
          ]
        },
        {
          "output_type": "execute_result",
          "data": {
            "text/plain": [
              "<keras.callbacks.History at 0x7f2b071e9c50>"
            ]
          },
          "metadata": {},
          "execution_count": 10
        }
      ]
    },
    {
      "cell_type": "markdown",
      "metadata": {
        "cell_id": "00022-6c632b58-ff04-4a56-bf6e-7a653737c629",
        "deepnote_cell_type": "markdown",
        "id": "YmcVSVvOSt_N"
      },
      "source": [
        "Bonus : train a big network (more than 5 layers). Does it overfit or has it still good performance ? "
      ],
      "id": "YmcVSVvOSt_N"
    },
    {
      "cell_type": "code",
      "metadata": {
        "cell_id": "00023-a2101739-986c-4ce2-8db2-28a5a383252d",
        "deepnote_to_be_reexecuted": false,
        "source_hash": "b623e53d",
        "execution_start": 1638348997895,
        "deepnote_cell_type": "code",
        "colab": {
          "base_uri": "https://localhost:8080/"
        },
        "id": "yW-9TU8VSt_O",
        "outputId": "f2194e23-1b25-4891-f41d-08aa4ea40d22"
      },
      "source": [
        "model5 = Sequential()\n",
        "model5.add(Dense(1000,activation='selu'))\n",
        "model5.add(Dense(800,activation='selu'))\n",
        "model5.add(Dense(500, activation='selu'))\n",
        "model5.add(Dense(250, activation='selu'))\n",
        "model5.add(Dense(100, activation='selu'))\n",
        "model5.add(Dense(10,activation='softmax'))\n",
        "model5.compile(optimizer=\"sgd\", loss=\"sparse_categorical_crossentropy\")\n",
        "model5.fit(tri_scaled, train_labels, epochs=10,validation_data=(tei_scaled,test_labels))"
      ],
      "id": "yW-9TU8VSt_O",
      "execution_count": null,
      "outputs": [
        {
          "output_type": "stream",
          "name": "stdout",
          "text": [
            "Epoch 1/10\n",
            "1875/1875 [==============================] - 10s 5ms/step - loss: 0.4918 - val_loss: 0.4214\n",
            "Epoch 2/10\n",
            "1875/1875 [==============================] - 9s 5ms/step - loss: 0.3662 - val_loss: 0.3731\n",
            "Epoch 3/10\n",
            "1875/1875 [==============================] - 10s 5ms/step - loss: 0.3285 - val_loss: 0.3790\n",
            "Epoch 4/10\n",
            "1875/1875 [==============================] - 10s 5ms/step - loss: 0.3051 - val_loss: 0.3390\n",
            "Epoch 5/10\n",
            "1875/1875 [==============================] - 10s 5ms/step - loss: 0.2862 - val_loss: 0.3462\n",
            "Epoch 6/10\n",
            "1875/1875 [==============================] - 10s 5ms/step - loss: 0.2711 - val_loss: 0.3355\n",
            "Epoch 7/10\n",
            "1875/1875 [==============================] - 10s 5ms/step - loss: 0.2583 - val_loss: 0.3441\n",
            "Epoch 8/10\n",
            "1875/1875 [==============================] - 10s 5ms/step - loss: 0.2467 - val_loss: 0.3332\n",
            "Epoch 9/10\n",
            "1875/1875 [==============================] - 10s 5ms/step - loss: 0.2380 - val_loss: 0.3252\n",
            "Epoch 10/10\n",
            "1875/1875 [==============================] - 10s 5ms/step - loss: 0.2280 - val_loss: 0.3546\n"
          ]
        }
      ]
    },
    {
      "cell_type": "markdown",
      "metadata": {
        "cell_id": "00024-a6d34f16-be3d-4fb8-b973-f556e8abaccb",
        "deepnote_cell_type": "markdown",
        "id": "CeqBcZ7KSt_O"
      },
      "source": [
        "## Effect of the parameter initialization \n",
        "\n",
        "The way the parameters of a network are initialized can have a great impact on the training process. \n",
        "\n"
      ],
      "id": "CeqBcZ7KSt_O"
    },
    {
      "cell_type": "markdown",
      "metadata": {
        "cell_id": "00025-b4022996-c40c-4b4f-92cf-31e9847420fb",
        "deepnote_cell_type": "markdown",
        "id": "2MGxup4TSt_O"
      },
      "source": [
        "Create a model with the same structure as the previous section. Initialize all weight values to 0 (cf https://keras.io/api/layers/initializers/)"
      ],
      "id": "2MGxup4TSt_O"
    },
    {
      "cell_type": "code",
      "metadata": {
        "cell_id": "00026-b5d3400d-46b1-4720-9b47-dad3f7a36cd3",
        "deepnote_to_be_reexecuted": false,
        "source_hash": "b623e53d",
        "execution_start": 1638348997896,
        "deepnote_cell_type": "code",
        "id": "9rjVY3p7St_O"
      },
      "source": [
        "from tensorflow.keras import initializers\n",
        "model6 = Sequential()\n",
        "model6.add(Dense(800,activation='selu', kernel_initializer=initializers.Zeros(), bias_initializer=initializers.Zeros()))\n",
        "model6.add(Dense(500, activation='selu', kernel_initializer=initializers.Zeros(), bias_initializer=initializers.Zeros()))\n",
        "model6.add(Dense(100, activation='selu', kernel_initializer=initializers.Zeros(), bias_initializer=initializers.Zeros()))\n",
        "model6.add(Dense(10,activation='softmax', kernel_initializer=initializers.Zeros(), bias_initializer=initializers.Zeros()))\n"
      ],
      "id": "9rjVY3p7St_O",
      "execution_count": 25,
      "outputs": []
    },
    {
      "cell_type": "markdown",
      "metadata": {
        "cell_id": "00027-62540c33-a7d2-4bed-98ac-ffc7b7f61084",
        "deepnote_cell_type": "markdown",
        "id": "94FZc9eYSt_O"
      },
      "source": [
        "Train the model on the dataset and display the loss. Are you shocked ? "
      ],
      "id": "94FZc9eYSt_O"
    },
    {
      "cell_type": "code",
      "metadata": {
        "cell_id": "00028-b44d9a17-ad78-41d1-9f78-696e559b97f1",
        "deepnote_to_be_reexecuted": false,
        "source_hash": "b623e53d",
        "execution_start": 1638348997897,
        "deepnote_cell_type": "code",
        "colab": {
          "base_uri": "https://localhost:8080/"
        },
        "id": "kQL5KmB9St_P",
        "outputId": "c44f9064-2beb-43a9-80b4-925a366b004f"
      },
      "source": [
        "model6.compile(optimizer=\"sgd\", loss=\"sparse_categorical_crossentropy\")\n",
        "model6.fit(tri_scaled, train_labels, epochs=10,validation_data=(tei_scaled,test_labels))"
      ],
      "id": "kQL5KmB9St_P",
      "execution_count": 26,
      "outputs": [
        {
          "output_type": "stream",
          "name": "stdout",
          "text": [
            "Epoch 1/10\n",
            "1875/1875 [==============================] - 8s 4ms/step - loss: 2.3027 - val_loss: 2.3026\n",
            "Epoch 2/10\n",
            "1875/1875 [==============================] - 8s 4ms/step - loss: 2.3027 - val_loss: 2.3026\n",
            "Epoch 3/10\n",
            "1875/1875 [==============================] - 7s 4ms/step - loss: 2.3027 - val_loss: 2.3026\n",
            "Epoch 4/10\n",
            "1875/1875 [==============================] - 7s 4ms/step - loss: 2.3027 - val_loss: 2.3026\n",
            "Epoch 5/10\n",
            "1875/1875 [==============================] - 8s 4ms/step - loss: 2.3027 - val_loss: 2.3026\n",
            "Epoch 6/10\n",
            "1875/1875 [==============================] - 8s 4ms/step - loss: 2.3027 - val_loss: 2.3026\n",
            "Epoch 7/10\n",
            "1875/1875 [==============================] - 7s 4ms/step - loss: 2.3027 - val_loss: 2.3026\n",
            "Epoch 8/10\n",
            "1875/1875 [==============================] - 7s 4ms/step - loss: 2.3027 - val_loss: 2.3026\n",
            "Epoch 9/10\n",
            "1875/1875 [==============================] - 7s 4ms/step - loss: 2.3027 - val_loss: 2.3026\n",
            "Epoch 10/10\n",
            "1875/1875 [==============================] - 7s 4ms/step - loss: 2.3027 - val_loss: 2.3026\n"
          ]
        },
        {
          "output_type": "execute_result",
          "data": {
            "text/plain": [
              "<keras.callbacks.History at 0x7f2b074c2910>"
            ]
          },
          "metadata": {},
          "execution_count": 26
        }
      ]
    },
    {
      "cell_type": "markdown",
      "metadata": {
        "cell_id": "00029-2560d8ba-8dfd-46ec-87d1-b393a51c1ff6",
        "deepnote_cell_type": "markdown",
        "id": "8Qq9Go1nSt_P"
      },
      "source": [
        "## Effect of the optimizer\n",
        "\n",
        "This time we want to study the effect of the optimization process on the network \n",
        "\n",
        "\n",
        "Instanciate the Optimizer SGD with a learning rate equaling to 0.1 and train the model "
      ],
      "id": "8Qq9Go1nSt_P"
    },
    {
      "cell_type": "code",
      "metadata": {
        "cell_id": "00030-29a4ca15-b722-4d46-9a66-eb242eefcda6",
        "deepnote_to_be_reexecuted": false,
        "source_hash": "b623e53d",
        "execution_start": 1638348997903,
        "deepnote_cell_type": "code",
        "colab": {
          "base_uri": "https://localhost:8080/"
        },
        "id": "0TAy1OvDSt_P",
        "outputId": "8ae590b6-238d-414e-ddbf-3d0007dda122"
      },
      "source": [
        "from tensorflow.keras import optimizers\n",
        "model7 = Sequential()\n",
        "model7.add(Dense(800,activation='selu'))\n",
        "model7.add(Dense(500, activation='selu'))\n",
        "model7.add(Dense(10,activation='softmax'))\n",
        "opt = optimizers.SGD(learning_rate=0.1)\n",
        "model7.compile(optimizer=opt, loss=\"sparse_categorical_crossentropy\")\n",
        "model7.fit(tri_scaled, train_labels, epochs=10,validation_data=(tei_scaled,test_labels))"
      ],
      "id": "0TAy1OvDSt_P",
      "execution_count": 27,
      "outputs": [
        {
          "output_type": "stream",
          "name": "stdout",
          "text": [
            "Epoch 1/10\n",
            "1875/1875 [==============================] - 8s 4ms/step - loss: nan - val_loss: nan\n",
            "Epoch 2/10\n",
            "1870/1875 [============================>.] - ETA: 0s - loss: nanEpoch 3/10\n",
            "1875/1875 [==============================] - 7s 4ms/step - loss: nan - val_loss: nan\n",
            "Epoch 4/10\n",
            "1875/1875 [==============================] - 6s 3ms/step - loss: nan - val_loss: nan\n",
            "Epoch 5/10\n",
            "1875/1875 [==============================] - 6s 3ms/step - loss: nan - val_loss: nan\n",
            "Epoch 6/10\n",
            "1875/1875 [==============================] - 7s 4ms/step - loss: nan - val_loss: nan\n",
            "Epoch 7/10\n",
            "1875/1875 [==============================] - 7s 3ms/step - loss: nan - val_loss: nan\n",
            "Epoch 8/10\n",
            "1875/1875 [==============================] - 7s 4ms/step - loss: nan - val_loss: nan\n",
            "Epoch 9/10\n",
            "1875/1875 [==============================] - 7s 4ms/step - loss: nan - val_loss: nan\n",
            "Epoch 10/10\n",
            "1875/1875 [==============================] - 7s 4ms/step - loss: nan - val_loss: nan\n"
          ]
        },
        {
          "output_type": "execute_result",
          "data": {
            "text/plain": [
              "<keras.callbacks.History at 0x7f2baf405790>"
            ]
          },
          "metadata": {},
          "execution_count": 27
        }
      ]
    },
    {
      "cell_type": "markdown",
      "metadata": {
        "cell_id": "00031-91285b21-3d1c-4fa5-a42a-3161d94ef6e8",
        "deepnote_cell_type": "markdown",
        "id": "DYYs8T8jSt_P"
      },
      "source": [
        "Do the same with a learning rate of 0.01"
      ],
      "id": "DYYs8T8jSt_P"
    },
    {
      "cell_type": "code",
      "metadata": {
        "cell_id": "00032-4f21bd31-ddc4-4654-b798-64060f42b089",
        "deepnote_to_be_reexecuted": false,
        "source_hash": "b623e53d",
        "execution_start": 1638348997936,
        "deepnote_cell_type": "code",
        "colab": {
          "base_uri": "https://localhost:8080/"
        },
        "id": "ZZSBDdPySt_P",
        "outputId": "e9b97116-3b1e-4569-a223-af3bfbc2079f"
      },
      "source": [
        "opt2 = optimizers.SGD(learning_rate=0.01)\n",
        "model6.compile(optimizer=opt2, loss=\"sparse_categorical_crossentropy\")\n",
        "model6.fit(tri_scaled, train_labels, epochs=10,validation_data=(tei_scaled,test_labels))"
      ],
      "id": "ZZSBDdPySt_P",
      "execution_count": 21,
      "outputs": [
        {
          "output_type": "stream",
          "name": "stdout",
          "text": [
            "Epoch 1/10\n",
            "1875/1875 [==============================] - 8s 4ms/step - loss: nan - val_loss: nan\n",
            "Epoch 2/10\n",
            "1875/1875 [==============================] - 7s 4ms/step - loss: nan - val_loss: nan\n",
            "Epoch 3/10\n",
            "1875/1875 [==============================] - 8s 4ms/step - loss: nan - val_loss: nan\n",
            "Epoch 4/10\n",
            "1875/1875 [==============================] - 8s 4ms/step - loss: nan - val_loss: nan\n",
            "Epoch 5/10\n",
            "1875/1875 [==============================] - 7s 4ms/step - loss: nan - val_loss: nan\n",
            "Epoch 6/10\n",
            "1875/1875 [==============================] - 8s 4ms/step - loss: nan - val_loss: nan\n",
            "Epoch 7/10\n",
            "1875/1875 [==============================] - 7s 4ms/step - loss: nan - val_loss: nan\n",
            "Epoch 8/10\n",
            "1875/1875 [==============================] - 8s 4ms/step - loss: nan - val_loss: nan\n",
            "Epoch 9/10\n",
            "1875/1875 [==============================] - 7s 4ms/step - loss: nan - val_loss: nan\n",
            "Epoch 10/10\n",
            "1875/1875 [==============================] - 7s 4ms/step - loss: nan - val_loss: nan\n"
          ]
        },
        {
          "output_type": "execute_result",
          "data": {
            "text/plain": [
              "<keras.callbacks.History at 0x7f2b001457d0>"
            ]
          },
          "metadata": {},
          "execution_count": 21
        }
      ]
    },
    {
      "cell_type": "markdown",
      "metadata": {
        "cell_id": "00033-f5af7c8c-f9ae-4b4c-a43b-fbefcfb07fad",
        "deepnote_cell_type": "markdown",
        "id": "rVY9dr_KSt_P"
      },
      "source": [
        "Do the same with a learning rate of 0.9. Does it still work ? "
      ],
      "id": "rVY9dr_KSt_P"
    },
    {
      "cell_type": "code",
      "metadata": {
        "cell_id": "00034-7a81a60a-daa8-456d-98c6-bf82e4c86b75",
        "deepnote_to_be_reexecuted": false,
        "source_hash": "b623e53d",
        "execution_start": 1638348997937,
        "deepnote_cell_type": "code",
        "colab": {
          "base_uri": "https://localhost:8080/"
        },
        "id": "QkJ_HQgjSt_Q",
        "outputId": "d0775635-b1a4-4319-cf47-6073471f48dc"
      },
      "source": [
        "from tensorflow.keras import optimizers\n",
        "opt3 = optimizers.SGD(learning_rate=0.9)\n",
        "model6.compile(optimizer=opt3, loss=\"sparse_categorical_crossentropy\")\n",
        "model6.fit(tri_scaled, train_labels, epochs=10,validation_data=(tei_scaled,test_labels))"
      ],
      "id": "QkJ_HQgjSt_Q",
      "execution_count": 22,
      "outputs": [
        {
          "output_type": "stream",
          "name": "stdout",
          "text": [
            "Epoch 1/10\n",
            "1875/1875 [==============================] - 8s 4ms/step - loss: nan - val_loss: nan\n",
            "Epoch 2/10\n",
            "1875/1875 [==============================] - 8s 4ms/step - loss: nan - val_loss: nan\n",
            "Epoch 3/10\n",
            "1875/1875 [==============================] - 8s 4ms/step - loss: nan - val_loss: nan\n",
            "Epoch 4/10\n",
            "1875/1875 [==============================] - 8s 4ms/step - loss: nan - val_loss: nan\n",
            "Epoch 5/10\n",
            "1875/1875 [==============================] - 7s 4ms/step - loss: nan - val_loss: nan\n",
            "Epoch 6/10\n",
            "1875/1875 [==============================] - 8s 4ms/step - loss: nan - val_loss: nan\n",
            "Epoch 7/10\n",
            "1875/1875 [==============================] - 7s 4ms/step - loss: nan - val_loss: nan\n",
            "Epoch 8/10\n",
            "1875/1875 [==============================] - 8s 4ms/step - loss: nan - val_loss: nan\n",
            "Epoch 9/10\n",
            "1875/1875 [==============================] - 8s 4ms/step - loss: nan - val_loss: nan\n",
            "Epoch 10/10\n",
            "1875/1875 [==============================] - 8s 4ms/step - loss: nan - val_loss: nan\n"
          ]
        },
        {
          "output_type": "execute_result",
          "data": {
            "text/plain": [
              "<keras.callbacks.History at 0x7f2b001115d0>"
            ]
          },
          "metadata": {},
          "execution_count": 22
        }
      ]
    },
    {
      "cell_type": "markdown",
      "metadata": {
        "cell_id": "00035-5e9b8f19-694f-4560-a5bb-f42faad446c5",
        "deepnote_cell_type": "markdown",
        "id": "CC3wojqvSt_Q"
      },
      "source": [
        "Use the callback Reduce learning rate on plateau (https://keras.io/api/callbacks/reduce_lr_on_plateau/) and start with a pretty high learning rate. Is the learning faster ?\n"
      ],
      "id": "CC3wojqvSt_Q"
    },
    {
      "cell_type": "code",
      "metadata": {
        "cell_id": "00036-4a6eea5d-8fbf-447f-977d-a68d557ff6f5",
        "deepnote_to_be_reexecuted": false,
        "source_hash": "b623e53d",
        "execution_start": 1638348997937,
        "deepnote_cell_type": "code",
        "colab": {
          "base_uri": "https://localhost:8080/"
        },
        "id": "TBe0vsXJSt_Q",
        "outputId": "9f11dd1b-a53b-4ff1-f0b1-949834e6b1bc"
      },
      "source": [
        "from tensorflow.keras.callbacks import ReduceLROnPlateau\n",
        "\n",
        "reduce_lr = ReduceLROnPlateau(monitor='val_loss', factor=0.2,\n",
        "                              patience=5, min_lr=0.9)\n",
        "model6.fit(tri_scaled, train_labels, epochs=10, callbacks=[reduce_lr], validation_data=(tei_scaled,test_labels))"
      ],
      "id": "TBe0vsXJSt_Q",
      "execution_count": 24,
      "outputs": [
        {
          "output_type": "stream",
          "name": "stdout",
          "text": [
            "Epoch 1/10\n",
            "1875/1875 [==============================] - 7s 4ms/step - loss: nan - val_loss: nan - lr: 0.9000\n",
            "Epoch 2/10\n",
            "1875/1875 [==============================] - 7s 4ms/step - loss: nan - val_loss: nan - lr: 0.9000\n",
            "Epoch 3/10\n",
            "1875/1875 [==============================] - 7s 4ms/step - loss: nan - val_loss: nan - lr: 0.9000\n",
            "Epoch 4/10\n",
            "1875/1875 [==============================] - 7s 4ms/step - loss: nan - val_loss: nan - lr: 0.9000\n",
            "Epoch 5/10\n",
            "1875/1875 [==============================] - 8s 4ms/step - loss: nan - val_loss: nan - lr: 0.9000\n",
            "Epoch 6/10\n",
            "1875/1875 [==============================] - 8s 4ms/step - loss: nan - val_loss: nan - lr: 0.9000\n",
            "Epoch 7/10\n",
            "1875/1875 [==============================] - 7s 4ms/step - loss: nan - val_loss: nan - lr: 0.9000\n",
            "Epoch 8/10\n",
            "1875/1875 [==============================] - 8s 4ms/step - loss: nan - val_loss: nan - lr: 0.9000\n",
            "Epoch 9/10\n",
            "1875/1875 [==============================] - 7s 4ms/step - loss: nan - val_loss: nan - lr: 0.9000\n",
            "Epoch 10/10\n",
            "1875/1875 [==============================] - 7s 4ms/step - loss: nan - val_loss: nan - lr: 0.9000\n"
          ]
        },
        {
          "output_type": "execute_result",
          "data": {
            "text/plain": [
              "<keras.callbacks.History at 0x7f2afff35210>"
            ]
          },
          "metadata": {},
          "execution_count": 24
        }
      ]
    },
    {
      "cell_type": "markdown",
      "metadata": {
        "cell_id": "00037-402e60a9-c22f-44e6-972f-c1bd341534ae",
        "deepnote_cell_type": "markdown",
        "id": "L-YQiB2ISt_Q"
      },
      "source": [
        "Bonus : with the https://keras.io/api/callbacks/learning_rate_scheduler/ \n",
        "\n",
        "Implement the cyclical learning rate schema as follow (from \"Cyclical Learning Rates for Training Neural Networks\" Smith - https://arxiv.org/abs/1506.01186)"
      ],
      "id": "L-YQiB2ISt_Q"
    },
    {
      "cell_type": "code",
      "metadata": {
        "cell_id": "00039-ce20fb95-c433-4ecc-89b8-4e0d0ae7d971",
        "deepnote_to_be_reexecuted": false,
        "source_hash": "b623e53d",
        "execution_start": 1638348997938,
        "deepnote_cell_type": "code",
        "id": "ju76wI04St_Q"
      },
      "source": [
        ""
      ],
      "id": "ju76wI04St_Q",
      "execution_count": 10,
      "outputs": []
    },
    {
      "cell_type": "markdown",
      "metadata": {
        "tags": [],
        "cell_id": "00039-cdb45d3b-b48c-431d-bf66-1aa851587899",
        "deepnote_cell_type": "markdown",
        "id": "VuUe2adOSt_R"
      },
      "source": [
        "Bonus : do the study activation function and size on a more complexe dataset like cifar 10 "
      ],
      "id": "VuUe2adOSt_R"
    },
    {
      "cell_type": "code",
      "metadata": {
        "tags": [],
        "cell_id": "00040-370d339f-8787-4a81-bf4c-eda135a18496",
        "deepnote_to_be_reexecuted": false,
        "source_hash": "b623e53d",
        "execution_start": 1638348997938,
        "deepnote_cell_type": "code",
        "id": "Egd0L51_St_R"
      },
      "source": [
        ""
      ],
      "id": "Egd0L51_St_R",
      "execution_count": 10,
      "outputs": []
    },
    {
      "cell_type": "markdown",
      "metadata": {
        "tags": [],
        "cell_id": "00040-9363f959-007a-4b3a-abf8-2bb27ec4f5f1",
        "deepnote_cell_type": "markdown",
        "id": "y0tOBwXqSt_R"
      },
      "source": [
        "Bonus : do the same with a small convolutional network"
      ],
      "id": "y0tOBwXqSt_R"
    },
    {
      "cell_type": "code",
      "metadata": {
        "tags": [],
        "cell_id": "00042-741186d6-bfc6-4cb7-8087-c057f60aa2a4",
        "deepnote_to_be_reexecuted": false,
        "source_hash": "b623e53d",
        "execution_start": 1638348997942,
        "deepnote_cell_type": "code",
        "id": "C-UuUfzNSt_R"
      },
      "source": [
        ""
      ],
      "id": "C-UuUfzNSt_R",
      "execution_count": 10,
      "outputs": []
    },
    {
      "cell_type": "markdown",
      "metadata": {
        "tags": [],
        "cell_id": "00041-2453eaf6-9100-48e3-9a22-a89d77c8176e",
        "deepnote_cell_type": "markdown",
        "id": "cYpyZtLsSt_R"
      },
      "source": [
        ""
      ],
      "id": "cYpyZtLsSt_R"
    },
    {
      "cell_type": "markdown",
      "metadata": {
        "tags": [],
        "created_in_deepnote_cell": true,
        "deepnote_cell_type": "markdown",
        "id": "0EKIzQURSt_R"
      },
      "source": [
        "<a style='text-decoration:none;line-height:16px;display:flex;color:#5B5B62;padding:10px;justify-content:end;' href='https://deepnote.com?utm_source=created-in-deepnote-cell&projectId=56a14241-1a4a-43c4-96a0-4bee7f0d0226' target=\"_blank\">\n",
        "<img alt='Created in deepnote.com' style='display:inline;max-height:16px;margin:0px;margin-right:7.5px;' src='data:image/svg+xml;base64,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' > </img>\n",
        "Created in <span style='font-weight:600;margin-left:4px;'>Deepnote</span></a>"
      ],
      "id": "0EKIzQURSt_R"
    }
  ]
}